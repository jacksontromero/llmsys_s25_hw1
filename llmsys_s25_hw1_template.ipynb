{
  "cells": [
    {
      "cell_type": "markdown",
      "metadata": {
        "id": "sFcC_FHE-Lx7"
      },
      "source": [
        "# **Assignment 1**"
      ]
    },
    {
      "cell_type": "markdown",
      "metadata": {
        "id": "FUDDzNFV-Yr7"
      },
      "source": [
        "---\n",
        "## 📚 **Introduction**\n",
        "This template notebook is designed to guide you through Assignment 1 of the LLM System course. Follow the steps to set up your environment, implement the required functions, and test your code.\n",
        "\n",
        "### 🚀 **Goal of the Assignment**\n",
        "You will implement a basic deep learning framework, miniTorch, capable of performing operations on tensors with automatic differentiation and necessary operators. You will use this framework to build a simple feedforward neural network for a sentiment classification task.\n",
        "\n",
        "---"
      ]
    },
    {
      "cell_type": "markdown",
      "metadata": {
        "id": "qkQ21W7h-eCq"
      },
      "source": [
        "## ⚙️ **Environment Setup**\n",
        "First, ensure that you have changed the runtime to **T4 GPU**. Run the following commands to set up your environment."
      ]
    },
    {
      "cell_type": "code",
      "execution_count": 44,
      "metadata": {
        "id": "vXnYt1dB-Nb4"
      },
      "outputs": [],
      "source": [
        "# Clone the starter code repository\n",
        "# !git clone https://github.com/jacksontromero/llmsys_s25_hw1.git\n",
        "# %cd llmsys_s25_hw1"
      ]
    },
    {
      "cell_type": "code",
      "execution_count": 45,
      "metadata": {
        "id": "3_hSUoH2-iGn"
      },
      "outputs": [
        {
          "name": "stdout",
          "output_type": "stream",
          "text": [
            "Requirement already satisfied: colorama==0.4.3 in /home/jtromero/llmsys/llmsys_venv/lib/python3.10/site-packages (from -r requirements.txt (line 1)) (0.4.3)\n",
            "Requirement already satisfied: hypothesis==6.54 in /home/jtromero/llmsys/llmsys_venv/lib/python3.10/site-packages (from -r requirements.txt (line 2)) (6.54.0)\n",
            "Requirement already satisfied: mypy==0.971 in /home/jtromero/llmsys/llmsys_venv/lib/python3.10/site-packages (from -r requirements.txt (line 3)) (0.971)\n",
            "Requirement already satisfied: numba==0.58.1 in /home/jtromero/llmsys/llmsys_venv/lib/python3.10/site-packages (from -r requirements.txt (line 4)) (0.58.1)\n",
            "Requirement already satisfied: numpy==1.23.5 in /home/jtromero/llmsys/llmsys_venv/lib/python3.10/site-packages (from -r requirements.txt (line 5)) (1.23.5)\n",
            "Requirement already satisfied: pre-commit==2.20.0 in /home/jtromero/llmsys/llmsys_venv/lib/python3.10/site-packages (from -r requirements.txt (line 6)) (2.20.0)\n",
            "Requirement already satisfied: pytest==7.1.2 in /home/jtromero/llmsys/llmsys_venv/lib/python3.10/site-packages (from -r requirements.txt (line 7)) (7.1.2)\n",
            "Requirement already satisfied: pytest-env in /home/jtromero/llmsys/llmsys_venv/lib/python3.10/site-packages (from -r requirements.txt (line 8)) (0.6.2)\n",
            "Requirement already satisfied: pytest-runner==5.2 in /home/jtromero/llmsys/llmsys_venv/lib/python3.10/site-packages (from -r requirements.txt (line 9)) (5.2)\n",
            "Requirement already satisfied: typing_extensions in /home/jtromero/llmsys/llmsys_venv/lib/python3.10/site-packages (from -r requirements.txt (line 10)) (4.12.2)\n",
            "Requirement already satisfied: pycuda in /home/jtromero/llmsys/llmsys_venv/lib/python3.10/site-packages (from -r requirements.txt (line 11)) (2024.1.2)\n",
            "Requirement already satisfied: exceptiongroup>=1.0.0rc8 in /home/jtromero/llmsys/llmsys_venv/lib/python3.10/site-packages (from hypothesis==6.54->-r requirements.txt (line 2)) (1.2.2)\n",
            "Requirement already satisfied: attrs>=19.2.0 in /home/jtromero/llmsys/llmsys_venv/lib/python3.10/site-packages (from hypothesis==6.54->-r requirements.txt (line 2)) (24.3.0)\n",
            "Requirement already satisfied: sortedcontainers<3.0.0,>=2.1.0 in /home/jtromero/llmsys/llmsys_venv/lib/python3.10/site-packages (from hypothesis==6.54->-r requirements.txt (line 2)) (2.4.0)\n",
            "Requirement already satisfied: tomli>=1.1.0 in /home/jtromero/llmsys/llmsys_venv/lib/python3.10/site-packages (from mypy==0.971->-r requirements.txt (line 3)) (2.2.1)\n",
            "Requirement already satisfied: mypy-extensions>=0.4.3 in /home/jtromero/llmsys/llmsys_venv/lib/python3.10/site-packages (from mypy==0.971->-r requirements.txt (line 3)) (1.0.0)\n",
            "Requirement already satisfied: llvmlite<0.42,>=0.41.0dev0 in /home/jtromero/llmsys/llmsys_venv/lib/python3.10/site-packages (from numba==0.58.1->-r requirements.txt (line 4)) (0.41.1)\n",
            "Requirement already satisfied: virtualenv>=20.0.8 in /home/jtromero/llmsys/llmsys_venv/lib/python3.10/site-packages (from pre-commit==2.20.0->-r requirements.txt (line 6)) (20.29.1)\n",
            "Requirement already satisfied: toml in /home/jtromero/llmsys/llmsys_venv/lib/python3.10/site-packages (from pre-commit==2.20.0->-r requirements.txt (line 6)) (0.10.2)\n",
            "Requirement already satisfied: pyyaml>=5.1 in /home/jtromero/llmsys/llmsys_venv/lib/python3.10/site-packages (from pre-commit==2.20.0->-r requirements.txt (line 6)) (6.0.2)\n",
            "Requirement already satisfied: identify>=1.0.0 in /home/jtromero/llmsys/llmsys_venv/lib/python3.10/site-packages (from pre-commit==2.20.0->-r requirements.txt (line 6)) (2.6.5)\n",
            "Requirement already satisfied: cfgv>=2.0.0 in /home/jtromero/llmsys/llmsys_venv/lib/python3.10/site-packages (from pre-commit==2.20.0->-r requirements.txt (line 6)) (3.4.0)\n",
            "Requirement already satisfied: nodeenv>=0.11.1 in /home/jtromero/llmsys/llmsys_venv/lib/python3.10/site-packages (from pre-commit==2.20.0->-r requirements.txt (line 6)) (1.9.1)\n",
            "Requirement already satisfied: pluggy<2.0,>=0.12 in /home/jtromero/llmsys/llmsys_venv/lib/python3.10/site-packages (from pytest==7.1.2->-r requirements.txt (line 7)) (1.5.0)\n",
            "Requirement already satisfied: iniconfig in /home/jtromero/llmsys/llmsys_venv/lib/python3.10/site-packages (from pytest==7.1.2->-r requirements.txt (line 7)) (2.0.0)\n",
            "Requirement already satisfied: packaging in /home/jtromero/llmsys/llmsys_venv/lib/python3.10/site-packages (from pytest==7.1.2->-r requirements.txt (line 7)) (24.2)\n",
            "Requirement already satisfied: py>=1.8.2 in /home/jtromero/llmsys/llmsys_venv/lib/python3.10/site-packages (from pytest==7.1.2->-r requirements.txt (line 7)) (1.11.0)\n",
            "Requirement already satisfied: platformdirs>=2.2.0 in /home/jtromero/llmsys/llmsys_venv/lib/python3.10/site-packages (from pycuda->-r requirements.txt (line 11)) (4.3.6)\n",
            "Requirement already satisfied: pytools>=2011.2 in /home/jtromero/llmsys/llmsys_venv/lib/python3.10/site-packages (from pycuda->-r requirements.txt (line 11)) (2025.1.1)\n",
            "Requirement already satisfied: mako in /home/jtromero/llmsys/llmsys_venv/lib/python3.10/site-packages (from pycuda->-r requirements.txt (line 11)) (1.3.8)\n",
            "Requirement already satisfied: filelock<4,>=3.12.2 in /home/jtromero/llmsys/llmsys_venv/lib/python3.10/site-packages (from virtualenv>=20.0.8->pre-commit==2.20.0->-r requirements.txt (line 6)) (3.16.1)\n",
            "Requirement already satisfied: distlib<1,>=0.3.7 in /home/jtromero/llmsys/llmsys_venv/lib/python3.10/site-packages (from virtualenv>=20.0.8->pre-commit==2.20.0->-r requirements.txt (line 6)) (0.3.9)\n",
            "Requirement already satisfied: MarkupSafe>=0.9.2 in /home/jtromero/llmsys/llmsys_venv/lib/python3.10/site-packages (from mako->pycuda->-r requirements.txt (line 11)) (3.0.2)\n",
            "Requirement already satisfied: datasets==3.2.0 in /home/jtromero/llmsys/llmsys_venv/lib/python3.10/site-packages (from -r requirements.extra.txt (line 1)) (3.2.0)\n",
            "Requirement already satisfied: embeddings==0.0.8 in /home/jtromero/llmsys/llmsys_venv/lib/python3.10/site-packages (from -r requirements.extra.txt (line 2)) (0.0.8)\n",
            "Requirement already satisfied: networkx==2.4 in /home/jtromero/llmsys/llmsys_venv/lib/python3.10/site-packages (from -r requirements.extra.txt (line 3)) (2.4)\n",
            "Requirement already satisfied: plotly==4.14.3 in /home/jtromero/llmsys/llmsys_venv/lib/python3.10/site-packages (from -r requirements.extra.txt (line 4)) (4.14.3)\n",
            "Requirement already satisfied: pydot==1.4.1 in /home/jtromero/llmsys/llmsys_venv/lib/python3.10/site-packages (from -r requirements.extra.txt (line 5)) (1.4.1)\n",
            "Requirement already satisfied: python-mnist in /home/jtromero/llmsys/llmsys_venv/lib/python3.10/site-packages (from -r requirements.extra.txt (line 6)) (0.7)\n",
            "Requirement already satisfied: streamlit==1.12.0 in /home/jtromero/llmsys/llmsys_venv/lib/python3.10/site-packages (from -r requirements.extra.txt (line 7)) (1.12.0)\n",
            "Requirement already satisfied: streamlit-ace in /home/jtromero/llmsys/llmsys_venv/lib/python3.10/site-packages (from -r requirements.extra.txt (line 8)) (0.1.1)\n",
            "Requirement already satisfied: torch in /home/jtromero/llmsys/llmsys_venv/lib/python3.10/site-packages (from -r requirements.extra.txt (line 9)) (2.5.1)\n",
            "Requirement already satisfied: watchdog==1.0.2 in /home/jtromero/llmsys/llmsys_venv/lib/python3.10/site-packages (from -r requirements.extra.txt (line 10)) (1.0.2)\n",
            "Requirement already satisfied: huggingface-hub>=0.23.0 in /home/jtromero/llmsys/llmsys_venv/lib/python3.10/site-packages (from datasets==3.2.0->-r requirements.extra.txt (line 1)) (0.27.1)\n",
            "Requirement already satisfied: requests>=2.32.2 in /home/jtromero/llmsys/llmsys_venv/lib/python3.10/site-packages (from datasets==3.2.0->-r requirements.extra.txt (line 1)) (2.32.3)\n",
            "Requirement already satisfied: numpy>=1.17 in /home/jtromero/llmsys/llmsys_venv/lib/python3.10/site-packages (from datasets==3.2.0->-r requirements.extra.txt (line 1)) (1.23.5)\n",
            "Requirement already satisfied: pyyaml>=5.1 in /home/jtromero/llmsys/llmsys_venv/lib/python3.10/site-packages (from datasets==3.2.0->-r requirements.extra.txt (line 1)) (6.0.2)\n",
            "Requirement already satisfied: tqdm>=4.66.3 in /home/jtromero/llmsys/llmsys_venv/lib/python3.10/site-packages (from datasets==3.2.0->-r requirements.extra.txt (line 1)) (4.67.1)\n",
            "Requirement already satisfied: xxhash in /home/jtromero/llmsys/llmsys_venv/lib/python3.10/site-packages (from datasets==3.2.0->-r requirements.extra.txt (line 1)) (3.5.0)\n",
            "Requirement already satisfied: multiprocess<0.70.17 in /home/jtromero/llmsys/llmsys_venv/lib/python3.10/site-packages (from datasets==3.2.0->-r requirements.extra.txt (line 1)) (0.70.13)\n",
            "Requirement already satisfied: dill<0.3.9,>=0.3.0 in /home/jtromero/llmsys/llmsys_venv/lib/python3.10/site-packages (from datasets==3.2.0->-r requirements.extra.txt (line 1)) (0.3.5.1)\n",
            "Requirement already satisfied: packaging in /home/jtromero/llmsys/llmsys_venv/lib/python3.10/site-packages (from datasets==3.2.0->-r requirements.extra.txt (line 1)) (24.2)\n",
            "Requirement already satisfied: fsspec[http]<=2024.9.0,>=2023.1.0 in /home/jtromero/llmsys/llmsys_venv/lib/python3.10/site-packages (from datasets==3.2.0->-r requirements.extra.txt (line 1)) (2024.9.0)\n",
            "Requirement already satisfied: pandas in /home/jtromero/llmsys/llmsys_venv/lib/python3.10/site-packages (from datasets==3.2.0->-r requirements.extra.txt (line 1)) (2.2.3)\n",
            "Requirement already satisfied: aiohttp in /home/jtromero/llmsys/llmsys_venv/lib/python3.10/site-packages (from datasets==3.2.0->-r requirements.extra.txt (line 1)) (3.11.11)\n",
            "Requirement already satisfied: filelock in /home/jtromero/llmsys/llmsys_venv/lib/python3.10/site-packages (from datasets==3.2.0->-r requirements.extra.txt (line 1)) (3.16.1)\n",
            "Requirement already satisfied: pyarrow>=15.0.0 in /home/jtromero/llmsys/llmsys_venv/lib/python3.10/site-packages (from datasets==3.2.0->-r requirements.extra.txt (line 1)) (19.0.0)\n",
            "Requirement already satisfied: decorator>=4.3.0 in /home/jtromero/llmsys/llmsys_venv/lib/python3.10/site-packages (from networkx==2.4->-r requirements.extra.txt (line 3)) (5.1.1)\n",
            "Requirement already satisfied: retrying>=1.3.3 in /home/jtromero/llmsys/llmsys_venv/lib/python3.10/site-packages (from plotly==4.14.3->-r requirements.extra.txt (line 4)) (1.3.4)\n",
            "Requirement already satisfied: six in /home/jtromero/llmsys/llmsys_venv/lib/python3.10/site-packages (from plotly==4.14.3->-r requirements.extra.txt (line 4)) (1.17.0)\n",
            "Requirement already satisfied: pyparsing>=2.1.4 in /home/jtromero/llmsys/llmsys_venv/lib/python3.10/site-packages (from pydot==1.4.1->-r requirements.extra.txt (line 5)) (3.2.1)\n",
            "Requirement already satisfied: click>=7.0 in /home/jtromero/llmsys/llmsys_venv/lib/python3.10/site-packages (from streamlit==1.12.0->-r requirements.extra.txt (line 7)) (8.1.8)\n",
            "Requirement already satisfied: semver in /home/jtromero/llmsys/llmsys_venv/lib/python3.10/site-packages (from streamlit==1.12.0->-r requirements.extra.txt (line 7)) (3.0.3)\n",
            "Requirement already satisfied: pydeck>=0.1.dev5 in /home/jtromero/llmsys/llmsys_venv/lib/python3.10/site-packages (from streamlit==1.12.0->-r requirements.extra.txt (line 7)) (0.9.1)\n",
            "Requirement already satisfied: importlib-metadata>=1.4 in /home/jtromero/llmsys/llmsys_venv/lib/python3.10/site-packages (from streamlit==1.12.0->-r requirements.extra.txt (line 7)) (8.5.0)\n",
            "Requirement already satisfied: pympler>=0.9 in /home/jtromero/llmsys/llmsys_venv/lib/python3.10/site-packages (from streamlit==1.12.0->-r requirements.extra.txt (line 7)) (1.1)\n",
            "Requirement already satisfied: toml in /home/jtromero/llmsys/llmsys_venv/lib/python3.10/site-packages (from streamlit==1.12.0->-r requirements.extra.txt (line 7)) (0.10.2)\n",
            "Requirement already satisfied: altair>=3.2.0 in /home/jtromero/llmsys/llmsys_venv/lib/python3.10/site-packages (from streamlit==1.12.0->-r requirements.extra.txt (line 7)) (5.5.0)\n",
            "Requirement already satisfied: rich>=10.11.0 in /home/jtromero/llmsys/llmsys_venv/lib/python3.10/site-packages (from streamlit==1.12.0->-r requirements.extra.txt (line 7)) (13.9.4)\n",
            "Requirement already satisfied: validators>=0.2 in /home/jtromero/llmsys/llmsys_venv/lib/python3.10/site-packages (from streamlit==1.12.0->-r requirements.extra.txt (line 7)) (0.34.0)\n",
            "Requirement already satisfied: typing-extensions>=3.10.0.0 in /home/jtromero/llmsys/llmsys_venv/lib/python3.10/site-packages (from streamlit==1.12.0->-r requirements.extra.txt (line 7)) (4.12.2)\n",
            "Requirement already satisfied: cachetools>=4.0 in /home/jtromero/llmsys/llmsys_venv/lib/python3.10/site-packages (from streamlit==1.12.0->-r requirements.extra.txt (line 7)) (5.5.0)\n",
            "Requirement already satisfied: pillow>=6.2.0 in /home/jtromero/llmsys/llmsys_venv/lib/python3.10/site-packages (from streamlit==1.12.0->-r requirements.extra.txt (line 7)) (11.1.0)\n",
            "Requirement already satisfied: python-dateutil in /home/jtromero/llmsys/llmsys_venv/lib/python3.10/site-packages (from streamlit==1.12.0->-r requirements.extra.txt (line 7)) (2.9.0.post0)\n",
            "Requirement already satisfied: gitpython!=3.1.19 in /home/jtromero/llmsys/llmsys_venv/lib/python3.10/site-packages (from streamlit==1.12.0->-r requirements.extra.txt (line 7)) (3.1.44)\n",
            "Requirement already satisfied: tornado>=5.0 in /home/jtromero/llmsys/llmsys_venv/lib/python3.10/site-packages (from streamlit==1.12.0->-r requirements.extra.txt (line 7)) (6.4.2)\n",
            "Requirement already satisfied: protobuf<4,>=3.12 in /home/jtromero/llmsys/llmsys_venv/lib/python3.10/site-packages (from streamlit==1.12.0->-r requirements.extra.txt (line 7)) (3.20.3)\n",
            "Requirement already satisfied: tzlocal>=1.1 in /home/jtromero/llmsys/llmsys_venv/lib/python3.10/site-packages (from streamlit==1.12.0->-r requirements.extra.txt (line 7)) (5.2)\n",
            "Requirement already satisfied: blinker>=1.0.0 in /home/jtromero/llmsys/llmsys_venv/lib/python3.10/site-packages (from streamlit==1.12.0->-r requirements.extra.txt (line 7)) (1.9.0)\n",
            "Requirement already satisfied: nvidia-cuda-nvrtc-cu12==12.4.127 in /home/jtromero/llmsys/llmsys_venv/lib/python3.10/site-packages (from torch->-r requirements.extra.txt (line 9)) (12.4.127)\n",
            "Requirement already satisfied: nvidia-nvjitlink-cu12==12.4.127 in /home/jtromero/llmsys/llmsys_venv/lib/python3.10/site-packages (from torch->-r requirements.extra.txt (line 9)) (12.4.127)\n",
            "Requirement already satisfied: nvidia-cuda-cupti-cu12==12.4.127 in /home/jtromero/llmsys/llmsys_venv/lib/python3.10/site-packages (from torch->-r requirements.extra.txt (line 9)) (12.4.127)\n",
            "Requirement already satisfied: nvidia-cudnn-cu12==9.1.0.70 in /home/jtromero/llmsys/llmsys_venv/lib/python3.10/site-packages (from torch->-r requirements.extra.txt (line 9)) (9.1.0.70)\n",
            "Requirement already satisfied: nvidia-cublas-cu12==12.4.5.8 in /home/jtromero/llmsys/llmsys_venv/lib/python3.10/site-packages (from torch->-r requirements.extra.txt (line 9)) (12.4.5.8)\n",
            "Requirement already satisfied: nvidia-cusolver-cu12==11.6.1.9 in /home/jtromero/llmsys/llmsys_venv/lib/python3.10/site-packages (from torch->-r requirements.extra.txt (line 9)) (11.6.1.9)\n",
            "Requirement already satisfied: nvidia-cuda-runtime-cu12==12.4.127 in /home/jtromero/llmsys/llmsys_venv/lib/python3.10/site-packages (from torch->-r requirements.extra.txt (line 9)) (12.4.127)\n",
            "Requirement already satisfied: nvidia-nvtx-cu12==12.4.127 in /home/jtromero/llmsys/llmsys_venv/lib/python3.10/site-packages (from torch->-r requirements.extra.txt (line 9)) (12.4.127)\n",
            "Requirement already satisfied: sympy==1.13.1 in /home/jtromero/llmsys/llmsys_venv/lib/python3.10/site-packages (from torch->-r requirements.extra.txt (line 9)) (1.13.1)\n",
            "Requirement already satisfied: jinja2 in /home/jtromero/llmsys/llmsys_venv/lib/python3.10/site-packages (from torch->-r requirements.extra.txt (line 9)) (3.1.5)\n",
            "Requirement already satisfied: triton==3.1.0 in /home/jtromero/llmsys/llmsys_venv/lib/python3.10/site-packages (from torch->-r requirements.extra.txt (line 9)) (3.1.0)\n",
            "Requirement already satisfied: nvidia-cufft-cu12==11.2.1.3 in /home/jtromero/llmsys/llmsys_venv/lib/python3.10/site-packages (from torch->-r requirements.extra.txt (line 9)) (11.2.1.3)\n",
            "Requirement already satisfied: nvidia-nccl-cu12==2.21.5 in /home/jtromero/llmsys/llmsys_venv/lib/python3.10/site-packages (from torch->-r requirements.extra.txt (line 9)) (2.21.5)\n",
            "Requirement already satisfied: nvidia-cusparse-cu12==12.3.1.170 in /home/jtromero/llmsys/llmsys_venv/lib/python3.10/site-packages (from torch->-r requirements.extra.txt (line 9)) (12.3.1.170)\n",
            "Requirement already satisfied: nvidia-curand-cu12==10.3.5.147 in /home/jtromero/llmsys/llmsys_venv/lib/python3.10/site-packages (from torch->-r requirements.extra.txt (line 9)) (10.3.5.147)\n",
            "Requirement already satisfied: mpmath<1.4,>=1.1.0 in /home/jtromero/llmsys/llmsys_venv/lib/python3.10/site-packages (from sympy==1.13.1->torch->-r requirements.extra.txt (line 9)) (1.3.0)\n",
            "Requirement already satisfied: narwhals>=1.14.2 in /home/jtromero/llmsys/llmsys_venv/lib/python3.10/site-packages (from altair>=3.2.0->streamlit==1.12.0->-r requirements.extra.txt (line 7)) (1.22.0)\n",
            "Requirement already satisfied: jsonschema>=3.0 in /home/jtromero/llmsys/llmsys_venv/lib/python3.10/site-packages (from altair>=3.2.0->streamlit==1.12.0->-r requirements.extra.txt (line 7)) (4.23.0)\n",
            "Requirement already satisfied: aiohappyeyeballs>=2.3.0 in /home/jtromero/llmsys/llmsys_venv/lib/python3.10/site-packages (from aiohttp->datasets==3.2.0->-r requirements.extra.txt (line 1)) (2.4.4)\n",
            "Requirement already satisfied: async-timeout<6.0,>=4.0 in /home/jtromero/llmsys/llmsys_venv/lib/python3.10/site-packages (from aiohttp->datasets==3.2.0->-r requirements.extra.txt (line 1)) (5.0.1)\n",
            "Requirement already satisfied: attrs>=17.3.0 in /home/jtromero/llmsys/llmsys_venv/lib/python3.10/site-packages (from aiohttp->datasets==3.2.0->-r requirements.extra.txt (line 1)) (24.3.0)\n",
            "Requirement already satisfied: aiosignal>=1.1.2 in /home/jtromero/llmsys/llmsys_venv/lib/python3.10/site-packages (from aiohttp->datasets==3.2.0->-r requirements.extra.txt (line 1)) (1.3.2)\n",
            "Requirement already satisfied: yarl<2.0,>=1.17.0 in /home/jtromero/llmsys/llmsys_venv/lib/python3.10/site-packages (from aiohttp->datasets==3.2.0->-r requirements.extra.txt (line 1)) (1.18.3)\n",
            "Requirement already satisfied: frozenlist>=1.1.1 in /home/jtromero/llmsys/llmsys_venv/lib/python3.10/site-packages (from aiohttp->datasets==3.2.0->-r requirements.extra.txt (line 1)) (1.5.0)\n",
            "Requirement already satisfied: propcache>=0.2.0 in /home/jtromero/llmsys/llmsys_venv/lib/python3.10/site-packages (from aiohttp->datasets==3.2.0->-r requirements.extra.txt (line 1)) (0.2.1)\n",
            "Requirement already satisfied: multidict<7.0,>=4.5 in /home/jtromero/llmsys/llmsys_venv/lib/python3.10/site-packages (from aiohttp->datasets==3.2.0->-r requirements.extra.txt (line 1)) (6.1.0)\n",
            "Requirement already satisfied: gitdb<5,>=4.0.1 in /home/jtromero/llmsys/llmsys_venv/lib/python3.10/site-packages (from gitpython!=3.1.19->streamlit==1.12.0->-r requirements.extra.txt (line 7)) (4.0.12)\n",
            "Requirement already satisfied: zipp>=3.20 in /home/jtromero/llmsys/llmsys_venv/lib/python3.10/site-packages (from importlib-metadata>=1.4->streamlit==1.12.0->-r requirements.extra.txt (line 7)) (3.21.0)\n",
            "Requirement already satisfied: pytz>=2020.1 in /home/jtromero/llmsys/llmsys_venv/lib/python3.10/site-packages (from pandas->datasets==3.2.0->-r requirements.extra.txt (line 1)) (2024.2)\n",
            "Requirement already satisfied: tzdata>=2022.7 in /home/jtromero/llmsys/llmsys_venv/lib/python3.10/site-packages (from pandas->datasets==3.2.0->-r requirements.extra.txt (line 1)) (2024.2)\n",
            "Requirement already satisfied: MarkupSafe>=2.0 in /home/jtromero/llmsys/llmsys_venv/lib/python3.10/site-packages (from jinja2->torch->-r requirements.extra.txt (line 9)) (3.0.2)\n",
            "Requirement already satisfied: urllib3<3,>=1.21.1 in /home/jtromero/llmsys/llmsys_venv/lib/python3.10/site-packages (from requests>=2.32.2->datasets==3.2.0->-r requirements.extra.txt (line 1)) (2.3.0)\n",
            "Requirement already satisfied: idna<4,>=2.5 in /home/jtromero/llmsys/llmsys_venv/lib/python3.10/site-packages (from requests>=2.32.2->datasets==3.2.0->-r requirements.extra.txt (line 1)) (3.10)\n",
            "Requirement already satisfied: certifi>=2017.4.17 in /home/jtromero/llmsys/llmsys_venv/lib/python3.10/site-packages (from requests>=2.32.2->datasets==3.2.0->-r requirements.extra.txt (line 1)) (2024.12.14)\n",
            "Requirement already satisfied: charset-normalizer<4,>=2 in /home/jtromero/llmsys/llmsys_venv/lib/python3.10/site-packages (from requests>=2.32.2->datasets==3.2.0->-r requirements.extra.txt (line 1)) (3.4.1)\n",
            "Requirement already satisfied: markdown-it-py>=2.2.0 in /home/jtromero/llmsys/llmsys_venv/lib/python3.10/site-packages (from rich>=10.11.0->streamlit==1.12.0->-r requirements.extra.txt (line 7)) (3.0.0)\n",
            "Requirement already satisfied: pygments<3.0.0,>=2.13.0 in /home/jtromero/llmsys/llmsys_venv/lib/python3.10/site-packages (from rich>=10.11.0->streamlit==1.12.0->-r requirements.extra.txt (line 7)) (2.19.1)\n",
            "Requirement already satisfied: smmap<6,>=3.0.1 in /home/jtromero/llmsys/llmsys_venv/lib/python3.10/site-packages (from gitdb<5,>=4.0.1->gitpython!=3.1.19->streamlit==1.12.0->-r requirements.extra.txt (line 7)) (5.0.2)\n",
            "Requirement already satisfied: referencing>=0.28.4 in /home/jtromero/llmsys/llmsys_venv/lib/python3.10/site-packages (from jsonschema>=3.0->altair>=3.2.0->streamlit==1.12.0->-r requirements.extra.txt (line 7)) (0.36.1)\n",
            "Requirement already satisfied: rpds-py>=0.7.1 in /home/jtromero/llmsys/llmsys_venv/lib/python3.10/site-packages (from jsonschema>=3.0->altair>=3.2.0->streamlit==1.12.0->-r requirements.extra.txt (line 7)) (0.22.3)\n",
            "Requirement already satisfied: jsonschema-specifications>=2023.03.6 in /home/jtromero/llmsys/llmsys_venv/lib/python3.10/site-packages (from jsonschema>=3.0->altair>=3.2.0->streamlit==1.12.0->-r requirements.extra.txt (line 7)) (2024.10.1)\n",
            "Requirement already satisfied: mdurl~=0.1 in /home/jtromero/llmsys/llmsys_venv/lib/python3.10/site-packages (from markdown-it-py>=2.2.0->rich>=10.11.0->streamlit==1.12.0->-r requirements.extra.txt (line 7)) (0.1.2)\n"
          ]
        }
      ],
      "source": [
        "# Install dependencies\n",
        "!python -m pip install -r requirements.txt\n",
        "!python -m pip install -r requirements.extra.txt\n"
      ]
    },
    {
      "cell_type": "code",
      "execution_count": 46,
      "metadata": {},
      "outputs": [
        {
          "name": "stdout",
          "output_type": "stream",
          "text": [
            "Obtaining file:///home/jtromero/llmsys/hw1\n",
            "  Preparing metadata (setup.py) ... \u001b[?25ldone\n",
            "\u001b[?25hInstalling collected packages: minitorch\n",
            "  Attempting uninstall: minitorch\n",
            "    Found existing installation: minitorch 0.4\n",
            "    Uninstalling minitorch-0.4:\n",
            "      Successfully uninstalled minitorch-0.4\n",
            "  Running setup.py develop for minitorch\n",
            "Successfully installed minitorch-0.4\n"
          ]
        }
      ],
      "source": [
        "!python -m pip install -Ue ."
      ]
    },
    {
      "cell_type": "markdown",
      "metadata": {
        "id": "ORwEm87d-wdz"
      },
      "source": [
        "---\n",
        "\n",
        "## 🔧 **CUDA Kernel Compilation**\n",
        "You will need to compile the CUDA kernels for this assignment. Run the following command to create the necessary directory and compile the CUDA files.\n",
        "\n",
        "---"
      ]
    },
    {
      "cell_type": "code",
      "execution_count": 47,
      "metadata": {
        "id": "Uk8IZjW9-sci"
      },
      "outputs": [
        {
          "name": "stdout",
          "output_type": "stream",
          "text": [
            "nvcc warning : Support for offline compilation for architectures prior to '<compute/sm/lto>_75' will be removed in a future release (Use -Wno-deprecated-gpu-targets to suppress warning).\n"
          ]
        }
      ],
      "source": [
        "# Compile CUDA kernels\n",
        "!mkdir -p minitorch/cuda_kernels\n",
        "!nvcc -o minitorch/cuda_kernels/combine.so --shared src/combine.cu -Xcompiler -fPIC"
      ]
    },
    {
      "cell_type": "markdown",
      "metadata": {
        "id": "w4qk5ZS0_HcH"
      },
      "source": [
        "## 📋 **Assignment Sections**\n",
        "\n",
        "### 🧮 **Problem 1: Automatic Differentiation**\n",
        "**Goal:** Implement the functions `topological_sort` and `backpropagate` in `minitorch/autodiff.py`.\n",
        "\n",
        "🔧 **Instructions:**\n",
        "1. Navigate to `minitorch/autodiff.py`.\n",
        "2. Locate the placeholders marked with `BEGIN ASSIGN1_1` and `END ASSIGN1_1`.\n",
        "3. Implement the functions based on the assignment description.\n",
        "\n",
        "**Testing:**\n",
        "Run the following command to test your implementation.\n",
        "\n",
        "```python\n",
        "!python -m pytest -l -v -k \"autodiff\"\n",
        "```\n",
        "\n",
        "---"
      ]
    },
    {
      "cell_type": "code",
      "execution_count": 48,
      "metadata": {
        "id": "0a0b3024-2uA"
      },
      "outputs": [
        {
          "name": "stdout",
          "output_type": "stream",
          "text": [
            "\u001b[1m============================= test session starts ==============================\u001b[0m\n",
            "platform linux -- Python 3.10.12, pytest-7.1.2, pluggy-1.5.0 -- /home/jtromero/llmsys/llmsys_venv/bin/python\n",
            "cachedir: .pytest_cache\n",
            "hypothesis profile 'default' -> database=DirectoryBasedExampleDatabase('/home/jtromero/llmsys/hw1/.hypothesis/examples')\n",
            "rootdir: /home/jtromero/llmsys/hw1, configfile: setup.cfg\n",
            "plugins: hypothesis-6.54.0, env-0.6.2\n",
            "collected 110 items / 72 deselected / 38 selected                              \u001b[0m\u001b[1m\n",
            "\n",
            "tests/test_tensor_autodiff.py::test_create \u001b[32mPASSED\u001b[0m\u001b[32m                        [  2%]\u001b[0m\n",
            "tests/test_tensor_autodiff.py::test_topo_case1 \u001b[32mPASSED\u001b[0m\u001b[32m                    [  5%]\u001b[0m\n",
            "tests/test_tensor_autodiff.py::test_topo_case2 \u001b[32mPASSED\u001b[0m\u001b[32m                    [  7%]\u001b[0m\n",
            "tests/test_tensor_autodiff.py::test_one_derivative[fn0] \u001b[32mPASSED\u001b[0m\u001b[32m           [ 10%]\u001b[0m\n",
            "tests/test_tensor_autodiff.py::test_one_derivative[fn1] \u001b[32mPASSED\u001b[0m\u001b[32m           [ 13%]\u001b[0m\n",
            "tests/test_tensor_autodiff.py::test_one_derivative[fn2] \u001b[32mPASSED\u001b[0m\u001b[32m           [ 15%]\u001b[0m\n",
            "tests/test_tensor_autodiff.py::test_one_derivative[fn3] \u001b[32mPASSED\u001b[0m\u001b[32m           [ 18%]\u001b[0m\n",
            "tests/test_tensor_autodiff.py::test_one_derivative[fn4] \u001b[32mPASSED\u001b[0m\u001b[32m           [ 21%]\u001b[0m\n",
            "tests/test_tensor_autodiff.py::test_one_derivative[fn5] \u001b[32mPASSED\u001b[0m\u001b[32m           [ 23%]\u001b[0m\n",
            "tests/test_tensor_autodiff.py::test_one_derivative[fn6] \u001b[32mPASSED\u001b[0m\u001b[32m           [ 26%]\u001b[0m\n",
            "tests/test_tensor_autodiff.py::test_one_derivative[fn7] \u001b[32mPASSED\u001b[0m\u001b[32m           [ 28%]\u001b[0m\n",
            "tests/test_tensor_autodiff.py::test_one_derivative[fn8] \u001b[32mPASSED\u001b[0m\u001b[32m           [ 31%]\u001b[0m\n",
            "tests/test_tensor_autodiff.py::test_one_derivative[fn9] \u001b[32mPASSED\u001b[0m\u001b[32m           [ 34%]\u001b[0m\n",
            "tests/test_tensor_autodiff.py::test_one_derivative[fn10] \u001b[32mPASSED\u001b[0m\u001b[32m          [ 36%]\u001b[0m\n",
            "tests/test_tensor_autodiff.py::test_one_derivative[fn11] \u001b[32mPASSED\u001b[0m\u001b[32m          [ 39%]\u001b[0m\n",
            "tests/test_tensor_autodiff.py::test_one_derivative[fn12] \u001b[32mPASSED\u001b[0m\u001b[32m          [ 42%]\u001b[0m\n",
            "tests/test_tensor_autodiff.py::test_one_derivative[fn13] \u001b[32mPASSED\u001b[0m\u001b[32m          [ 44%]\u001b[0m\n",
            "tests/test_tensor_autodiff.py::test_permute \u001b[32mPASSED\u001b[0m\u001b[32m                       [ 47%]\u001b[0m\n",
            "tests/test_tensor_autodiff.py::test_grad_size \u001b[32mPASSED\u001b[0m\u001b[32m                     [ 50%]\u001b[0m\n",
            "tests/test_tensor_autodiff.py::test_grad_reduce[fn0] \u001b[32mPASSED\u001b[0m\u001b[32m              [ 52%]\u001b[0m\n",
            "tests/test_tensor_autodiff.py::test_grad_reduce[fn1] \u001b[32mPASSED\u001b[0m\u001b[32m              [ 55%]\u001b[0m\n",
            "tests/test_tensor_autodiff.py::test_grad_reduce[fn2] \u001b[32mPASSED\u001b[0m\u001b[32m              [ 57%]\u001b[0m\n",
            "tests/test_tensor_autodiff.py::test_two_grad[fn0] \u001b[32mPASSED\u001b[0m\u001b[32m                 [ 60%]\u001b[0m\n",
            "tests/test_tensor_autodiff.py::test_two_grad[fn1] \u001b[32mPASSED\u001b[0m\u001b[32m                 [ 63%]\u001b[0m\n",
            "tests/test_tensor_autodiff.py::test_two_grad[fn2] \u001b[32mPASSED\u001b[0m\u001b[32m                 [ 65%]\u001b[0m\n",
            "tests/test_tensor_autodiff.py::test_two_grad[fn3] \u001b[32mPASSED\u001b[0m\u001b[32m                 [ 68%]\u001b[0m\n",
            "tests/test_tensor_autodiff.py::test_two_grad[fn4] \u001b[32mPASSED\u001b[0m\u001b[32m                 [ 71%]\u001b[0m\n",
            "tests/test_tensor_autodiff.py::test_two_grad[fn5] \u001b[32mPASSED\u001b[0m\u001b[32m                 [ 73%]\u001b[0m\n",
            "tests/test_tensor_autodiff.py::test_two_grad_broadcast[fn0] \u001b[32mPASSED\u001b[0m\u001b[32m       [ 76%]\u001b[0m\n",
            "tests/test_tensor_autodiff.py::test_two_grad_broadcast[fn1] \u001b[32mPASSED\u001b[0m\u001b[32m       [ 78%]\u001b[0m\n",
            "tests/test_tensor_autodiff.py::test_two_grad_broadcast[fn2] \u001b[32mPASSED\u001b[0m\u001b[32m       [ 81%]\u001b[0m\n",
            "tests/test_tensor_autodiff.py::test_two_grad_broadcast[fn3] \u001b[32mPASSED\u001b[0m\u001b[32m       [ 84%]\u001b[0m\n",
            "tests/test_tensor_autodiff.py::test_two_grad_broadcast[fn4] \u001b[32mPASSED\u001b[0m\u001b[32m       [ 86%]\u001b[0m\n",
            "tests/test_tensor_autodiff.py::test_two_grad_broadcast[fn5] \u001b[32mPASSED\u001b[0m\u001b[32m       [ 89%]\u001b[0m\n",
            "tests/test_tensor_autodiff.py::test_fromlist \u001b[32mPASSED\u001b[0m\u001b[32m                      [ 92%]\u001b[0m\n",
            "tests/test_tensor_autodiff.py::test_view \u001b[32mPASSED\u001b[0m\u001b[32m                          [ 94%]\u001b[0m\n",
            "tests/test_tensor_autodiff.py::test_back_view \u001b[32mPASSED\u001b[0m\u001b[32m                     [ 97%]\u001b[0m\n",
            "tests/test_tensor_autodiff.py::test_fromnumpy \u001b[32mPASSED\u001b[0m\u001b[32m                     [100%]\u001b[0m\n",
            "\n",
            "\u001b[32m====================== \u001b[32m\u001b[1m38 passed\u001b[0m, \u001b[33m72 deselected\u001b[0m\u001b[32m in 12.63s\u001b[0m\u001b[32m ======================\u001b[0m\n"
          ]
        }
      ],
      "source": [
        "# Problem 1: Autodiff Tests\n",
        "\n",
        "# TODO: Implement the functions in minitorch/autodiff.py\n",
        "# topological_sort and backpropagate functions\n",
        "\n",
        "!python -m pytest -l -v -k \"autodiff\"\n"
      ]
    },
    {
      "cell_type": "markdown",
      "metadata": {
        "id": "2_CEvR3R_hP8"
      },
      "source": [
        "---\n",
        "\n",
        "### 🚀 **Problem 2: CUDA Backend Implementation**\n",
        "\n",
        "In this task, you will implement operators for the CUDA backend by creating efficient GPU-based functions in `src/combine.cu` and connecting them to the Python code in `minitorch/cuda_kernel_ops.py`.\n",
        "\n",
        "#### ✅ **Step 1: Compile the CUDA Kernels**\n",
        "Each time you make changes to the CUDA code, recompile it using the following command:\n",
        "```bash\n",
        "!nvcc -o minitorch/cuda_kernels/combine.so --shared src/combine.cu -Xcompiler -fPIC\n",
        "```\n",
        "\n",
        "#### 🧑‍💻 **Step 2: Implement CUDA Functions in Python**\n",
        "Update the following functions in `minitorch/cuda_kernel_ops.py` to load the compiled CUDA functions:\n",
        "\n",
        "```python\n",
        "class CudaKernelOps(TensorOps):\n",
        "    @staticmethod\n",
        "    def zip(fn: Callable[[float, float], float]):\n",
        "        # Implement zip function using CUDA kernel\n",
        "        ...\n",
        "\n",
        "    @staticmethod\n",
        "    def reduce(fn: Callable[[float, float], float], start: float = 0.0):\n",
        "        # Implement reduce function using CUDA kernel\n",
        "        ...\n",
        "\n",
        "    @staticmethod\n",
        "    def matrix_multiply(a: Tensor, b: Tensor) -> Tensor:\n",
        "        # Implement matrix multiplication using CUDA kernel\n",
        "        ...\n",
        "```\n",
        "\n",
        "#### 🧪 **Step 3: Run Tests to Verify Your Implementation**\n",
        "Use the following commands to verify your functions:\n",
        "\n",
        "- **Run all CUDA tests:**\n",
        "  ```bash\n",
        "  !python -m pytest -l -v -k \"cuda\"\n",
        "  ```\n",
        "\n",
        "- **Run specific tests for each CUDA function:**\n",
        "  - Map function:  \n",
        "    ```bash\n",
        "    !python -m pytest -l -v -k \"cuda_one\"\n",
        "    ```\n",
        "  - Zip function:  \n",
        "    ```bash\n",
        "    !python -m pytest -l -v -k \"cuda_two\"\n",
        "    ```\n",
        "  - Reduce function:  \n",
        "    ```bash\n",
        "    !python -m pytest -l -v -k \"cuda_reduce\"\n",
        "    ```\n",
        "  - Matrix multiplication:  \n",
        "    ```bash\n",
        "    !python -m pytest -l -v -k \"cuda_matmul\"\n",
        "    ```\n"
      ]
    },
    {
      "cell_type": "code",
      "execution_count": 49,
      "metadata": {
        "id": "xKJGrLp4_gkk"
      },
      "outputs": [
        {
          "name": "stdout",
          "output_type": "stream",
          "text": [
            "nvcc warning : Support for offline compilation for architectures prior to '<compute/sm/lto>_75' will be removed in a future release (Use -Wno-deprecated-gpu-targets to suppress warning).\n"
          ]
        }
      ],
      "source": [
        "!nvcc -o minitorch/cuda_kernels/combine.so --shared src/combine.cu -Xcompiler -fPIC"
      ]
    },
    {
      "cell_type": "code",
      "execution_count": 50,
      "metadata": {
        "id": "XTKV3nYqbRrk"
      },
      "outputs": [
        {
          "name": "stdout",
          "output_type": "stream",
          "text": [
            "\u001b[1m============================= test session starts ==============================\u001b[0m\n",
            "platform linux -- Python 3.10.12, pytest-7.1.2, pluggy-1.5.0 -- /home/jtromero/llmsys/llmsys_venv/bin/python\n",
            "cachedir: .pytest_cache\n",
            "hypothesis profile 'default' -> database=DirectoryBasedExampleDatabase('/home/jtromero/llmsys/hw1/.hypothesis/examples')\n",
            "rootdir: /home/jtromero/llmsys/hw1, configfile: setup.cfg\n",
            "plugins: hypothesis-6.54.0, env-0.6.2\n",
            "collected 110 items / 43 deselected / 67 selected                              \u001b[0m\u001b[1m\n",
            "\n",
            "tests/test_tensor_general.py::test_create[cuda] \u001b[32mPASSED\u001b[0m\u001b[32m                   [  1%]\u001b[0m\n",
            "tests/test_tensor_general.py::test_cuda_one_args[cuda-fn0] \u001b[32mPASSED\u001b[0m\u001b[32m        [  2%]\u001b[0m\n",
            "tests/test_tensor_general.py::test_cuda_one_args[cuda-fn1] \u001b[32mPASSED\u001b[0m\u001b[32m        [  4%]\u001b[0m\n",
            "tests/test_tensor_general.py::test_cuda_one_args[cuda-fn2] \u001b[32mPASSED\u001b[0m\u001b[32m        [  5%]\u001b[0m\n",
            "tests/test_tensor_general.py::test_cuda_one_args[cuda-fn3] \u001b[32mPASSED\u001b[0m\u001b[32m        [  7%]\u001b[0m\n",
            "tests/test_tensor_general.py::test_cuda_one_args[cuda-fn4] \u001b[32mPASSED\u001b[0m\u001b[32m        [  8%]\u001b[0m\n",
            "tests/test_tensor_general.py::test_cuda_one_args[cuda-fn5] \u001b[32mPASSED\u001b[0m\u001b[32m        [ 10%]\u001b[0m\n",
            "tests/test_tensor_general.py::test_cuda_one_args[cuda-fn6] \u001b[32mPASSED\u001b[0m\u001b[32m        [ 11%]\u001b[0m\n",
            "tests/test_tensor_general.py::test_cuda_one_args[cuda-fn7] \u001b[32mPASSED\u001b[0m\u001b[32m        [ 13%]\u001b[0m\n",
            "tests/test_tensor_general.py::test_cuda_one_args[cuda-fn8] \u001b[32mPASSED\u001b[0m\u001b[32m        [ 14%]\u001b[0m\n",
            "tests/test_tensor_general.py::test_cuda_one_args[cuda-fn9] \u001b[32mPASSED\u001b[0m\u001b[32m        [ 16%]\u001b[0m\n",
            "tests/test_tensor_general.py::test_cuda_one_args[cuda-fn10] \u001b[32mPASSED\u001b[0m\u001b[32m       [ 17%]\u001b[0m\n",
            "tests/test_tensor_general.py::test_cuda_one_args[cuda-fn11] \u001b[32mPASSED\u001b[0m\u001b[32m       [ 19%]\u001b[0m\n",
            "tests/test_tensor_general.py::test_cuda_one_args[cuda-fn12] \u001b[32mPASSED\u001b[0m\u001b[32m       [ 20%]\u001b[0m\n",
            "tests/test_tensor_general.py::test_cuda_one_args[cuda-fn13] \u001b[32mPASSED\u001b[0m\u001b[32m       [ 22%]\u001b[0m\n",
            "tests/test_tensor_general.py::test_cuda_two_args[cuda-fn0] \u001b[32mPASSED\u001b[0m\u001b[32m        [ 23%]\u001b[0m\n",
            "tests/test_tensor_general.py::test_cuda_two_args[cuda-fn1] \u001b[32mPASSED\u001b[0m\u001b[32m        [ 25%]\u001b[0m\n",
            "tests/test_tensor_general.py::test_cuda_two_args[cuda-fn2] \u001b[32mPASSED\u001b[0m\u001b[32m        [ 26%]\u001b[0m\n",
            "tests/test_tensor_general.py::test_cuda_two_args[cuda-fn3] \u001b[32mPASSED\u001b[0m\u001b[32m        [ 28%]\u001b[0m\n",
            "tests/test_tensor_general.py::test_cuda_two_args[cuda-fn4] \u001b[32mPASSED\u001b[0m\u001b[32m        [ 29%]\u001b[0m\n",
            "tests/test_tensor_general.py::test_cuda_two_args[cuda-fn5] \u001b[32mPASSED\u001b[0m\u001b[32m        [ 31%]\u001b[0m\n",
            "tests/test_tensor_general.py::test_cuda_one_derivative[cuda-fn0] \u001b[32mPASSED\u001b[0m\u001b[32m  [ 32%]\u001b[0m\n",
            "tests/test_tensor_general.py::test_cuda_one_derivative[cuda-fn1] \u001b[32mPASSED\u001b[0m\u001b[32m  [ 34%]\u001b[0m\n",
            "tests/test_tensor_general.py::test_cuda_one_derivative[cuda-fn2] \u001b[32mPASSED\u001b[0m\u001b[32m  [ 35%]\u001b[0m\n",
            "tests/test_tensor_general.py::test_cuda_one_derivative[cuda-fn3] \u001b[32mPASSED\u001b[0m\u001b[32m  [ 37%]\u001b[0m\n",
            "tests/test_tensor_general.py::test_cuda_one_derivative[cuda-fn4] \u001b[32mPASSED\u001b[0m\u001b[32m  [ 38%]\u001b[0m\n",
            "tests/test_tensor_general.py::test_cuda_one_derivative[cuda-fn5] \u001b[32mPASSED\u001b[0m\u001b[32m  [ 40%]\u001b[0m\n",
            "tests/test_tensor_general.py::test_cuda_one_derivative[cuda-fn6] \u001b[32mPASSED\u001b[0m\u001b[32m  [ 41%]\u001b[0m\n",
            "tests/test_tensor_general.py::test_cuda_one_derivative[cuda-fn7] \u001b[32mPASSED\u001b[0m\u001b[32m  [ 43%]\u001b[0m\n",
            "tests/test_tensor_general.py::test_cuda_one_derivative[cuda-fn8] \u001b[32mPASSED\u001b[0m\u001b[32m  [ 44%]\u001b[0m\n",
            "tests/test_tensor_general.py::test_cuda_one_derivative[cuda-fn9] \u001b[32mPASSED\u001b[0m\u001b[32m  [ 46%]\u001b[0m\n",
            "tests/test_tensor_general.py::test_cuda_one_derivative[cuda-fn10] \u001b[32mPASSED\u001b[0m\u001b[32m [ 47%]\u001b[0m\n",
            "tests/test_tensor_general.py::test_cuda_one_derivative[cuda-fn11] \u001b[32mPASSED\u001b[0m\u001b[32m [ 49%]\u001b[0m\n",
            "tests/test_tensor_general.py::test_cuda_one_derivative[cuda-fn12] \u001b[32mPASSED\u001b[0m\u001b[32m [ 50%]\u001b[0m\n",
            "tests/test_tensor_general.py::test_cuda_one_derivative[cuda-fn13] \u001b[32mPASSED\u001b[0m\u001b[32m [ 52%]\u001b[0m\n",
            "tests/test_tensor_general.py::test_cuda_two_grad[cuda-fn0] \u001b[32mPASSED\u001b[0m\u001b[32m        [ 53%]\u001b[0m\n",
            "tests/test_tensor_general.py::test_cuda_two_grad[cuda-fn1] \u001b[32mPASSED\u001b[0m\u001b[32m        [ 55%]\u001b[0m\n",
            "tests/test_tensor_general.py::test_cuda_two_grad[cuda-fn2] \u001b[32mPASSED\u001b[0m\u001b[32m        [ 56%]\u001b[0m\n",
            "tests/test_tensor_general.py::test_cuda_two_grad[cuda-fn3] \u001b[32mPASSED\u001b[0m\u001b[32m        [ 58%]\u001b[0m\n",
            "tests/test_tensor_general.py::test_cuda_two_grad[cuda-fn4] \u001b[32mPASSED\u001b[0m\u001b[32m        [ 59%]\u001b[0m\n",
            "tests/test_tensor_general.py::test_cuda_two_grad[cuda-fn5] \u001b[32mPASSED\u001b[0m\u001b[32m        [ 61%]\u001b[0m\n",
            "tests/test_tensor_general.py::test_cuda_two_grad_broadcast[cuda-fn0] \u001b[32mPASSED\u001b[0m\u001b[32m [ 62%]\u001b[0m\n",
            "tests/test_tensor_general.py::test_cuda_two_grad_broadcast[cuda-fn1] \u001b[32mPASSED\u001b[0m\u001b[32m [ 64%]\u001b[0m\n",
            "tests/test_tensor_general.py::test_cuda_two_grad_broadcast[cuda-fn2] \u001b[32mPASSED\u001b[0m\u001b[32m [ 65%]\u001b[0m\n",
            "tests/test_tensor_general.py::test_cuda_two_grad_broadcast[cuda-fn3] \u001b[32mPASSED\u001b[0m\u001b[32m [ 67%]\u001b[0m\n",
            "tests/test_tensor_general.py::test_cuda_two_grad_broadcast[cuda-fn4] \u001b[32mPASSED\u001b[0m\u001b[32m [ 68%]\u001b[0m\n",
            "tests/test_tensor_general.py::test_cuda_two_grad_broadcast[cuda-fn5] \u001b[32mPASSED\u001b[0m\u001b[32m [ 70%]\u001b[0m\n",
            "tests/test_tensor_general.py::test_cuda_reduce[cuda-fn0] \u001b[32mPASSED\u001b[0m\u001b[32m          [ 71%]\u001b[0m\n",
            "tests/test_tensor_general.py::test_cuda_reduce[cuda-fn1] \u001b[32mPASSED\u001b[0m\u001b[32m          [ 73%]\u001b[0m\n",
            "tests/test_tensor_general.py::test_cuda_reduce[cuda-fn2] \u001b[32mPASSED\u001b[0m\u001b[32m          [ 74%]\u001b[0m\n",
            "tests/test_tensor_general.py::test_cuda_reduce_sum_practice1[cuda] \u001b[32mPASSED\u001b[0m\u001b[32m [ 76%]\u001b[0m\n",
            "tests/test_tensor_general.py::test_cuda_reduce_sum_practice2[cuda] \u001b[32mPASSED\u001b[0m\u001b[32m [ 77%]\u001b[0m\n",
            "tests/test_tensor_general.py::test_cuda_reduce_sum_practice3[cuda] \u001b[32mPASSED\u001b[0m\u001b[32m [ 79%]\u001b[0m\n",
            "tests/test_tensor_general.py::test_cuda_matmul_numpy_eq[cuda-2-2-2] \u001b[32mPASSED\u001b[0m\u001b[32m [ 80%]\u001b[0m\n",
            "tests/test_tensor_general.py::test_cuda_matmul_numpy_eq[cuda-33-33-33] \u001b[32mPASSED\u001b[0m\u001b[32m [ 82%]\u001b[0m\n",
            "tests/test_tensor_general.py::test_cuda_matmul_numpy_eq[cuda-16-16-16] \u001b[32mPASSED\u001b[0m\u001b[32m [ 83%]\u001b[0m\n",
            "tests/test_tensor_general.py::test_cuda_matmul_numpy_eq[cuda-8-8-8] \u001b[32mPASSED\u001b[0m\u001b[32m [ 85%]\u001b[0m\n",
            "tests/test_tensor_general.py::test_cuda_matmul_numpy_eq[cuda-1-2-3] \u001b[32mPASSED\u001b[0m\u001b[32m [ 86%]\u001b[0m\n",
            "tests/test_tensor_general.py::test_cuda_matmul_numpy_eq[cuda-4-4-5] \u001b[32mPASSED\u001b[0m\u001b[32m [ 88%]\u001b[0m\n",
            "tests/test_tensor_general.py::test_cuda_matmul_numpy_eq[cuda-5-4-3] \u001b[32mPASSED\u001b[0m\u001b[32m [ 89%]\u001b[0m\n",
            "tests/test_tensor_general.py::test_cuda_matmul_numpy_eq[cuda-64-64-64] \u001b[32mPASSED\u001b[0m\u001b[32m [ 91%]\u001b[0m\n",
            "tests/test_tensor_general.py::test_cuda_matmul_numpy_eq[cuda-72-72-72] \u001b[32mPASSED\u001b[0m\u001b[32m [ 92%]\u001b[0m\n",
            "tests/test_tensor_general.py::test_cuda_matmul_numpy_eq[cuda-72-73-74] \u001b[32mPASSED\u001b[0m\u001b[32m [ 94%]\u001b[0m\n",
            "tests/test_tensor_general.py::test_cuda_matmul_numpy_eq[cuda-74-73-72] \u001b[32mPASSED\u001b[0m\u001b[32m [ 95%]\u001b[0m\n",
            "tests/test_tensor_general.py::test_cuda_matmul_numpy_eq[cuda-128-128-128] \u001b[32mPASSED\u001b[0m\u001b[32m [ 97%]\u001b[0m\n",
            "tests/test_tensor_general.py::test_cuda_matmul_transpose[cuda] \u001b[32mPASSED\u001b[0m\u001b[32m    [ 98%]\u001b[0m\n",
            "tests/test_tensor_general.py::test_cuda_permute[cuda] \u001b[32mPASSED\u001b[0m\u001b[32m             [100%]\u001b[0m\n",
            "\n",
            "\u001b[32m====================== \u001b[32m\u001b[1m67 passed\u001b[0m, \u001b[33m43 deselected\u001b[0m\u001b[32m in 55.56s\u001b[0m\u001b[32m ======================\u001b[0m\n"
          ]
        }
      ],
      "source": [
        "# Problem 2: Cuda Kernel Tests\n",
        "!python -m pytest -l -v -k \"cuda\"\n",
        "\n",
        "# Uncomment the following command if you want to separately test the four abstraction functions\n",
        "# !python -m pytest -l -v -k \"cuda_one\"    # map\n",
        "# !python -m pytest -l -v -k \"cuda_two\"    # zip\n",
        "# !python -m pytest -l -v -k \"cuda_reduce\" # reduce\n",
        "# !python -m pytest -l -v -k \"cuda_matmul\" # matrix multiplication\n"
      ]
    },
    {
      "cell_type": "markdown",
      "metadata": {
        "id": "zovjezvvccIr"
      },
      "source": [
        "### 🧠 **Problem 3: Neural Network Architecture**\n",
        "**Goal:** Implement the `Linear` and `Network` classes in `project/run_sentiment.py`.\n",
        "\n",
        "🔧 **Instructions:**\n",
        "1. Navigate to `project/run_sentiment.py`.\n",
        "2. Locate the placeholders marked with `BEGIN ASSIGN1_3` and `END ASSIGN1_3`.\n",
        "3. Implement the functions as per the assignment description.\n",
        "\n",
        "**Testing:**\n",
        "Run the following command to test your neural network implementation.\n",
        "\n",
        "```python\n",
        "!python -m pytest -l -v -k \"network\"\n",
        "```\n",
        "\n",
        "---"
      ]
    },
    {
      "cell_type": "code",
      "execution_count": 51,
      "metadata": {
        "id": "-Gv2pg0fcWP3"
      },
      "outputs": [
        {
          "name": "stdout",
          "output_type": "stream",
          "text": [
            "\u001b[1m============================= test session starts ==============================\u001b[0m\n",
            "platform linux -- Python 3.10.12, pytest-7.1.2, pluggy-1.5.0 -- /home/jtromero/llmsys/llmsys_venv/bin/python\n",
            "cachedir: .pytest_cache\n",
            "hypothesis profile 'default' -> database=DirectoryBasedExampleDatabase('/home/jtromero/llmsys/hw1/.hypothesis/examples')\n",
            "rootdir: /home/jtromero/llmsys/hw1, configfile: setup.cfg\n",
            "plugins: hypothesis-6.54.0, env-0.6.2\n",
            "collected 110 items / 105 deselected / 5 selected                              \u001b[0m\u001b[1m\n",
            "\n",
            "tests/test_neural_network.py::test_Linear_1 \u001b[32mPASSED\u001b[0m\u001b[32m                       [ 20%]\u001b[0m\n",
            "tests/test_neural_network.py::test_Linear_2 \u001b[32mPASSED\u001b[0m\u001b[32m                       [ 40%]\u001b[0m\n",
            "tests/test_neural_network.py::test_Network_1 \u001b[32mPASSED\u001b[0m\u001b[32m                      [ 60%]\u001b[0m\n",
            "tests/test_neural_network.py::test_Network_2 \u001b[32mPASSED\u001b[0m\u001b[32m                      [ 80%]\u001b[0m\n",
            "tests/test_neural_network.py::test_Network_3 \u001b[32mPASSED\u001b[0m\u001b[32m                      [100%]\u001b[0m\n",
            "\n",
            "\u001b[32m====================== \u001b[32m\u001b[1m5 passed\u001b[0m, \u001b[33m105 deselected\u001b[0m\u001b[32m in 1.97s\u001b[0m\u001b[32m =======================\u001b[0m\n"
          ]
        }
      ],
      "source": [
        "# TODO: Implement the Linear and Network classes in project/run_sentiment.py\n",
        "\n",
        "!python -m pytest -l -v -k \"network\""
      ]
    },
    {
      "cell_type": "markdown",
      "metadata": {
        "id": "LKz9Ja8Nclln"
      },
      "source": [
        "### 📈 **Problem 4: Training and Evaluation**\n",
        "**Goal:** Implement the training and validation loop in the `SentenceSentimentTrain` class in `project/run_sentiment.py`.\n",
        "\n",
        "🔧 **Instructions:**\n",
        "1. Navigate to `project/run_sentiment.py`.\n",
        "2. Locate the placeholders marked with `BEGIN ASSIGN1_4` and `END ASSIGN1_4`.\n",
        "3. Complete the code for training and validation.\n",
        "\n",
        "**Testing:**\n",
        "Run the following command to start training and see the validation results.\n",
        "\n",
        "```python\n",
        "!python project/run_sentiment.py\n",
        "```\n",
        "\n",
        "---"
      ]
    },
    {
      "cell_type": "code",
      "execution_count": 52,
      "metadata": {
        "id": "jvvFJTTmcqcS"
      },
      "outputs": [
        {
          "name": "stdout",
          "output_type": "stream",
          "text": [
            "missing pre-trained embedding for 55 unknown words\n",
            "initializing state: tensor_shape = (50, 32)\n",
            "initializing state: tensor_shape = (32,)\n",
            "initializing state: tensor_shape = (32, 1)\n",
            "initializing state: tensor_shape = (1,)\n",
            "Epoch 1, loss 0.694177864657508, train accuracy: 48.44%\n",
            "Validation accuracy: 53.00%\n",
            "Best Valid accuracy: 53.00%\n",
            "Epoch 2, loss 0.690743460920122, train accuracy: 53.56%\n",
            "Validation accuracy: 54.00%\n",
            "Best Valid accuracy: 54.00%\n",
            "Epoch 3, loss 0.6783628013398912, train accuracy: 61.11%\n",
            "Validation accuracy: 53.00%\n",
            "Best Valid accuracy: 54.00%\n",
            "Epoch 4, loss 0.6625168694390191, train accuracy: 60.00%\n",
            "Validation accuracy: 60.00%\n",
            "Best Valid accuracy: 60.00%\n",
            "Epoch 5, loss 0.6404042330053118, train accuracy: 65.11%\n",
            "Validation accuracy: 59.00%\n",
            "Best Valid accuracy: 60.00%\n",
            "Epoch 6, loss 0.6196419186062283, train accuracy: 69.56%\n",
            "Validation accuracy: 68.00%\n",
            "Best Valid accuracy: 68.00%\n",
            "Epoch 7, loss 0.614058651526769, train accuracy: 69.33%\n",
            "Validation accuracy: 60.00%\n",
            "Best Valid accuracy: 68.00%\n",
            "Epoch 8, loss 0.598021787405014, train accuracy: 71.78%\n",
            "Validation accuracy: 60.00%\n",
            "Best Valid accuracy: 68.00%\n",
            "Epoch 9, loss 0.598224237230089, train accuracy: 70.67%\n",
            "Validation accuracy: 61.00%\n",
            "Best Valid accuracy: 68.00%\n",
            "Epoch 10, loss 0.6023155079947577, train accuracy: 70.89%\n",
            "Validation accuracy: 61.00%\n",
            "Best Valid accuracy: 68.00%\n",
            "Epoch 11, loss 0.5701270805464851, train accuracy: 71.11%\n",
            "Validation accuracy: 69.00%\n",
            "Best Valid accuracy: 69.00%\n",
            "Epoch 12, loss 0.5706387069490221, train accuracy: 70.89%\n",
            "Validation accuracy: 69.00%\n",
            "Best Valid accuracy: 69.00%\n",
            "Epoch 13, loss 0.5631243374612597, train accuracy: 73.11%\n",
            "Validation accuracy: 67.00%\n",
            "Best Valid accuracy: 69.00%\n",
            "Epoch 14, loss 0.5490348888768091, train accuracy: 74.67%\n",
            "Validation accuracy: 64.00%\n",
            "Best Valid accuracy: 69.00%\n",
            "Epoch 15, loss 0.5617775181929271, train accuracy: 71.56%\n",
            "Validation accuracy: 67.00%\n",
            "Best Valid accuracy: 69.00%\n",
            "Epoch 16, loss 0.5498797986242506, train accuracy: 73.78%\n",
            "Validation accuracy: 66.00%\n",
            "Best Valid accuracy: 69.00%\n",
            "Epoch 17, loss 0.5399598664707608, train accuracy: 72.89%\n",
            "Validation accuracy: 68.00%\n",
            "Best Valid accuracy: 69.00%\n",
            "Epoch 18, loss 0.5154698537455664, train accuracy: 73.56%\n",
            "Validation accuracy: 67.00%\n",
            "Best Valid accuracy: 69.00%\n",
            "Epoch 19, loss 0.5348600910769569, train accuracy: 71.56%\n",
            "Validation accuracy: 64.00%\n",
            "Best Valid accuracy: 69.00%\n",
            "Epoch 20, loss 0.5339521242512597, train accuracy: 73.33%\n",
            "Validation accuracy: 73.00%\n",
            "Best Valid accuracy: 73.00%\n",
            "Epoch 21, loss 0.5263394978311327, train accuracy: 76.22%\n",
            "Validation accuracy: 67.00%\n",
            "Best Valid accuracy: 73.00%\n",
            "Epoch 22, loss 0.5180532362725999, train accuracy: 74.00%\n",
            "Validation accuracy: 69.00%\n",
            "Best Valid accuracy: 73.00%\n",
            "Epoch 23, loss 0.5095226771301693, train accuracy: 76.22%\n",
            "Validation accuracy: 67.00%\n",
            "Best Valid accuracy: 73.00%\n",
            "Epoch 24, loss 0.4943665385246277, train accuracy: 77.11%\n",
            "Validation accuracy: 72.00%\n",
            "Best Valid accuracy: 73.00%\n",
            "Epoch 25, loss 0.5165076322025723, train accuracy: 72.89%\n",
            "Validation accuracy: 71.00%\n",
            "Best Valid accuracy: 73.00%\n",
            "Epoch 26, loss 0.5065321822961172, train accuracy: 75.11%\n",
            "Validation accuracy: 70.00%\n",
            "Best Valid accuracy: 73.00%\n",
            "Epoch 27, loss 0.51631757484542, train accuracy: 76.67%\n",
            "Validation accuracy: 67.00%\n",
            "Best Valid accuracy: 73.00%\n",
            "Epoch 28, loss 0.5113337887658014, train accuracy: 76.22%\n",
            "Validation accuracy: 65.00%\n",
            "Best Valid accuracy: 73.00%\n",
            "Epoch 29, loss 0.5055823471811083, train accuracy: 76.00%\n",
            "Validation accuracy: 72.00%\n",
            "Best Valid accuracy: 73.00%\n",
            "Epoch 30, loss 0.4883659713798099, train accuracy: 77.56%\n",
            "Validation accuracy: 73.00%\n",
            "Best Valid accuracy: 73.00%\n",
            "Epoch 31, loss 0.4905273801750607, train accuracy: 74.00%\n",
            "Validation accuracy: 71.00%\n",
            "Best Valid accuracy: 73.00%\n",
            "Epoch 32, loss 0.49660537507798935, train accuracy: 76.44%\n",
            "Validation accuracy: 69.00%\n",
            "Best Valid accuracy: 73.00%\n",
            "Epoch 33, loss 0.4938328120443556, train accuracy: 76.22%\n",
            "Validation accuracy: 69.00%\n",
            "Best Valid accuracy: 73.00%\n",
            "Epoch 34, loss 0.48180034359296164, train accuracy: 78.22%\n",
            "Validation accuracy: 69.00%\n",
            "Best Valid accuracy: 73.00%\n",
            "Epoch 35, loss 0.47709191275967494, train accuracy: 78.67%\n",
            "Validation accuracy: 70.00%\n",
            "Best Valid accuracy: 73.00%\n",
            "Epoch 36, loss 0.49017329613367716, train accuracy: 76.44%\n",
            "Validation accuracy: 73.00%\n",
            "Best Valid accuracy: 73.00%\n",
            "Epoch 37, loss 0.4750143402152591, train accuracy: 76.89%\n",
            "Validation accuracy: 72.00%\n",
            "Best Valid accuracy: 73.00%\n",
            "Epoch 38, loss 0.48355469438764787, train accuracy: 77.56%\n",
            "Validation accuracy: 64.00%\n",
            "Best Valid accuracy: 73.00%\n",
            "Epoch 39, loss 0.49675792985492284, train accuracy: 77.56%\n",
            "Validation accuracy: 77.00%\n",
            "Best Valid accuracy: 77.00%\n",
            "Epoch 40, loss 0.4774498336844974, train accuracy: 77.11%\n",
            "Validation accuracy: 71.00%\n",
            "Best Valid accuracy: 77.00%\n",
            "Epoch 41, loss 0.4796281933784485, train accuracy: 76.22%\n",
            "Validation accuracy: 70.00%\n",
            "Best Valid accuracy: 77.00%\n",
            "Epoch 42, loss 0.48524177339341906, train accuracy: 76.89%\n",
            "Validation accuracy: 67.00%\n",
            "Best Valid accuracy: 77.00%\n",
            "Epoch 43, loss 0.47429603338241577, train accuracy: 79.11%\n",
            "Validation accuracy: 70.00%\n",
            "Best Valid accuracy: 77.00%\n",
            "Epoch 44, loss 0.4784824023644129, train accuracy: 75.78%\n",
            "Validation accuracy: 70.00%\n",
            "Best Valid accuracy: 77.00%\n",
            "Epoch 45, loss 0.47034931580225625, train accuracy: 75.33%\n",
            "Validation accuracy: 70.00%\n",
            "Best Valid accuracy: 77.00%\n",
            "Epoch 46, loss 0.48718781537479827, train accuracy: 77.56%\n",
            "Validation accuracy: 74.00%\n",
            "Best Valid accuracy: 77.00%\n",
            "Epoch 47, loss 0.4470204022195604, train accuracy: 78.67%\n",
            "Validation accuracy: 70.00%\n",
            "Best Valid accuracy: 77.00%\n",
            "Epoch 48, loss 0.4774785154395633, train accuracy: 75.33%\n",
            "Validation accuracy: 76.00%\n",
            "Best Valid accuracy: 77.00%\n",
            "Epoch 49, loss 0.46812101602554324, train accuracy: 77.33%\n",
            "Validation accuracy: 69.00%\n",
            "Best Valid accuracy: 77.00%\n",
            "Epoch 50, loss 0.47198935018645394, train accuracy: 77.56%\n",
            "Validation accuracy: 74.00%\n",
            "Best Valid accuracy: 77.00%\n"
          ]
        }
      ],
      "source": [
        "# TODO: Implement the training loop in SentenceSentimentTrain class in project/run_sentiment.py\n",
        "!python project/run_sentiment.py"
      ]
    },
    {
      "cell_type": "markdown",
      "metadata": {
        "id": "EB62HJR-d_3N"
      },
      "source": [
        "---\n",
        "\n",
        "### 💾 **Submit Your Assignment: Create a ZIP File for Submission**\n",
        "\n",
        "Run the following code to create a `llmsys_s25_hw1.zip` file, which you can download and upload to Canvas:\n",
        "\n",
        "\n",
        "---\n",
        "\n",
        "### 📋 **Instructions for Submission:**\n",
        "1. **Run the cell below.**  \n",
        "   - This will generate a `llmsys_s25_hw1.zip` file containing your entire project.\n",
        "2. **Click the download link** that appears after the cell finishes running.\n",
        "3. **Upload the downloaded ZIP file to Canvas.**\n",
        "\n"
      ]
    },
    {
      "cell_type": "code",
      "execution_count": 54,
      "metadata": {
        "colab": {
          "base_uri": "https://localhost:8080/",
          "height": 17
        },
        "id": "MpllLJl_d8TW",
        "outputId": "de44b4a8-dce6-4d2d-f708-73dc85a264ce"
      },
      "outputs": [
        {
          "data": {
            "text/plain": [
              "'/home/jtromero/llmsys/hw1/llmsys_s25_hw1.zip'"
            ]
          },
          "execution_count": 54,
          "metadata": {},
          "output_type": "execute_result"
        }
      ],
      "source": [
        "import shutil\n",
        "\n",
        "# Define the directory to zip\n",
        "dir_to_zip = \"llmsys_s25_hw1\"\n",
        "\n",
        "# Create a zip file\n",
        "output_filename = f\"{dir_to_zip}.zip\"\n",
        "shutil.make_archive(dir_to_zip, 'zip', dir_to_zip)\n",
        "\n",
        "# Provide a download link\n",
        "# from google.colab import files\n",
        "# files.download(output_filename)\n"
      ]
    },
    {
      "cell_type": "code",
      "execution_count": null,
      "metadata": {
        "id": "nzTd_c53d86V"
      },
      "outputs": [],
      "source": []
    }
  ],
  "metadata": {
    "accelerator": "GPU",
    "colab": {
      "gpuType": "T4",
      "provenance": []
    },
    "kernelspec": {
      "display_name": "llmsys_venv",
      "language": "python",
      "name": "python3"
    },
    "language_info": {
      "codemirror_mode": {
        "name": "ipython",
        "version": 3
      },
      "file_extension": ".py",
      "mimetype": "text/x-python",
      "name": "python",
      "nbconvert_exporter": "python",
      "pygments_lexer": "ipython3",
      "version": "3.10.12"
    }
  },
  "nbformat": 4,
  "nbformat_minor": 0
}
